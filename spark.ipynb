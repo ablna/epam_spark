{
 "cells": [
  {
   "cell_type": "code",
   "execution_count": 5,
   "id": "f86fd54c-fae2-4a4b-87ec-2dc038ba3e93",
   "metadata": {},
   "outputs": [],
   "source": [
    "from pyspark.sql import SparkSession\n",
    "spark = SparkSession.builder \\\n",
    "    .master(\"local\") \\\n",
    "    .appName(\"Word Count\") \\\n",
    "    .config(\"spark.some.config.option\", \"some-value\") \\\n",
    "    .getOrCreate()"
   ]
  },
  {
   "cell_type": "code",
   "execution_count": 6,
   "id": "17c4b923-9479-4125-94c8-83820612ac0c",
   "metadata": {},
   "outputs": [],
   "source": [
    "data = spark.read.csv('/Users/ablaikhann/Desktop/restaurant_csv', header=True)"
   ]
  },
  {
   "cell_type": "code",
   "execution_count": 7,
   "id": "b1328006-d531-459c-b52a-97a398162c03",
   "metadata": {},
   "outputs": [
    {
     "name": "stdout",
     "output_type": "stream",
     "text": [
      "+------------+------------+--------------------+-----------------------+-------+--------------+------+--------+\n",
      "|          id|franchise_id|      franchise_name|restaurant_franchise_id|country|          city|   lat|     lng|\n",
      "+------------+------------+--------------------+-----------------------+-------+--------------+------+--------+\n",
      "|197568495625|          10|    The Golden Spoon|                  24784|     US|       Decatur|34.578| -87.021|\n",
      "| 17179869242|          59|         Azalea Cafe|                  10902|     FR|         Paris|48.861|   2.368|\n",
      "|214748364826|          27|     The Corner Cafe|                  92040|     US|    Rapid City|44.080|-103.250|\n",
      "|154618822706|          51|        The Pizzeria|                  41484|     AT|        Vienna|48.213|  16.413|\n",
      "|163208757312|          65|       Chef's Corner|                  96638|     GB|        London|51.495|  -0.191|\n",
      "| 68719476763|          28|    The Spicy Pickle|                  77517|     US|      Grayling|44.657| -84.744|\n",
      "|223338299419|          28|    The Spicy Pickle|                  36937|     US|        Oswego|43.452| -76.532|\n",
      "|240518168650|          75|     Greenhouse Cafe|                  93164|     NL|     Amsterdam|52.370|   4.897|\n",
      "|128849018936|          57|The Yellow Submarine|                   5679|     FR|         Paris|48.872|   2.335|\n",
      "|197568495635|          20|       The Brasserie|                  24784|     US|Jeffersonville|39.616| -83.612|\n",
      "| 68719476768|          33|   The Blue Elephant|                  77517|     IT|         Milan|45.479|   9.146|\n",
      "| 51539607582|          31|           Bistro 42|                   6934|     IT|         Milan|45.444|   9.153|\n",
      "| 94489280554|          43|      The Food House|                  95399|     FR|         Paris|48.867|   2.329|\n",
      "|206158430215|           8|     The Green Olive|                  53370|     US|   Haltom City|32.789| -97.280|\n",
      "|154618822657|           2|        Bella Cucina|                  41484|     US|   Fort Pierce|27.412| -80.391|\n",
      "| 17179869217|          34|     The Tasty Treat|                  10902|     US|     Green Bay|44.476| -88.077|\n",
      "|  8589934633|          42|     The Daily Scoop|                  12630|     FR|         Paris|48.854|   2.343|\n",
      "|240518168596|          21|      The Lazy Daisy|                  93164|     US|    Mendenhall|39.860| -75.646|\n",
      "|171798691906|          67|  Crimson and Clover|                  65939|     NL|     Amsterdam|52.361|   4.894|\n",
      "| 42949673022|          63|          Cafe Paris|                  89646|     GB|        London|51.508|  -0.107|\n",
      "+------------+------------+--------------------+-----------------------+-------+--------------+------+--------+\n",
      "only showing top 20 rows\n",
      "\n"
     ]
    }
   ],
   "source": [
    "data.show()"
   ]
  },
  {
   "cell_type": "code",
   "execution_count": 8,
   "id": "d899682d-a358-4ba2-8fe8-7e75ffa1aa88",
   "metadata": {},
   "outputs": [],
   "source": [
    "from pyspark.sql.functions import concat, col, when, udf\n",
    "from pyspark.sql.types import DoubleType, StringType\n",
    "\n",
    "data = data.withColumn(\"lat\",col(\"lat\").cast('double'))\n",
    "data = data.withColumn(\"lng\",col(\"lng\").cast('double'))\n"
   ]
  },
  {
   "cell_type": "code",
   "execution_count": 9,
   "id": "ae5e041d-5fae-45ec-8354-c5ee82b45b8f",
   "metadata": {},
   "outputs": [],
   "source": [
    "! pip3 install opencage >> /dev/null"
   ]
  },
  {
   "cell_type": "code",
   "execution_count": 10,
   "id": "864870ce-18f9-4b64-92a0-1c9f685c1ce2",
   "metadata": {},
   "outputs": [],
   "source": [
    "from opencage.geocoder import OpenCageGeocode\n",
    "key = 'here is my token'\n",
    "geocoder = OpenCageGeocode(key)"
   ]
  },
  {
   "cell_type": "code",
   "execution_count": 11,
   "id": "f90408c9-c20f-4719-b8b5-f17beba49346",
   "metadata": {},
   "outputs": [],
   "source": [
    "def fill_null_lat_lng(country, city, method='lat'):\n",
    "    address = f\"{city}, {country}\"  \n",
    "    response = geocoder.geocode(address)\n",
    "    if response and 'geometry' in response[0]:\n",
    "        return response[0]['geometry'].get(method)  \n",
    "    else:\n",
    "        return None"
   ]
  },
  {
   "cell_type": "code",
   "execution_count": 12,
   "id": "1eb29699-75e3-4956-9f66-266b0cb866b3",
   "metadata": {},
   "outputs": [
    {
     "ename": "NotAuthorizedError",
     "evalue": "Your API key is not authorized. You may have entered it incorrectly.",
     "output_type": "error",
     "traceback": [
      "\u001b[0;31m---------------------------------------------------------------------------\u001b[0m",
      "\u001b[0;31mNotAuthorizedError\u001b[0m                        Traceback (most recent call last)",
      "Cell \u001b[0;32mIn[12], line 3\u001b[0m\n\u001b[1;32m      1\u001b[0m \u001b[38;5;66;03m# unittesting for geocoding\u001b[39;00m\n\u001b[0;32m----> 3\u001b[0m \u001b[38;5;28;01massert\u001b[39;00m \u001b[38;5;28mabs\u001b[39m(fill_null_lat_lng(\u001b[38;5;124m'\u001b[39m\u001b[38;5;124mKazakhstan\u001b[39m\u001b[38;5;124m'\u001b[39m, \u001b[38;5;124m'\u001b[39m\u001b[38;5;124mPavlodar\u001b[39m\u001b[38;5;124m'\u001b[39m) \u001b[38;5;241m-\u001b[39m \u001b[38;5;241m52.287303\u001b[39m) \u001b[38;5;241m<\u001b[39m\u001b[38;5;241m=\u001b[39m \u001b[38;5;241m1\u001b[39m \u001b[38;5;66;03m# arbitrary known address\u001b[39;00m\n\u001b[1;32m      4\u001b[0m \u001b[38;5;28;01massert\u001b[39;00m \u001b[38;5;28mabs\u001b[39m(fill_null_lat_lng(\u001b[38;5;124m'\u001b[39m\u001b[38;5;124mKazakhstan\u001b[39m\u001b[38;5;124m'\u001b[39m, \u001b[38;5;124m'\u001b[39m\u001b[38;5;124mPavlodar\u001b[39m\u001b[38;5;124m'\u001b[39m, \u001b[38;5;124m'\u001b[39m\u001b[38;5;124mlng\u001b[39m\u001b[38;5;124m'\u001b[39m) \u001b[38;5;241m-\u001b[39m \u001b[38;5;241m76.967402\u001b[39m) \u001b[38;5;241m<\u001b[39m\u001b[38;5;241m=\u001b[39m \u001b[38;5;241m1\u001b[39m  \u001b[38;5;66;03m# arbitrary known address\u001b[39;00m\n\u001b[1;32m      5\u001b[0m \u001b[38;5;28;01massert\u001b[39;00m \u001b[38;5;28mabs\u001b[39m(fill_null_lat_lng(\u001b[38;5;124m'\u001b[39m\u001b[38;5;124mUs\u001b[39m\u001b[38;5;124m'\u001b[39m, \u001b[38;5;124m'\u001b[39m\u001b[38;5;124mRapid City\u001b[39m\u001b[38;5;124m'\u001b[39m, \u001b[38;5;124m'\u001b[39m\u001b[38;5;124mlat\u001b[39m\u001b[38;5;124m'\u001b[39m) \u001b[38;5;241m-\u001b[39m \u001b[38;5;241m44.080\u001b[39m) \u001b[38;5;241m<\u001b[39m\u001b[38;5;241m=\u001b[39m \u001b[38;5;241m1\u001b[39m  \u001b[38;5;66;03m# address from dataset\u001b[39;00m\n",
      "Cell \u001b[0;32mIn[11], line 3\u001b[0m, in \u001b[0;36mfill_null_lat_lng\u001b[0;34m(country, city, method)\u001b[0m\n\u001b[1;32m      1\u001b[0m \u001b[38;5;28;01mdef\u001b[39;00m \u001b[38;5;21mfill_null_lat_lng\u001b[39m(country, city, method\u001b[38;5;241m=\u001b[39m\u001b[38;5;124m'\u001b[39m\u001b[38;5;124mlat\u001b[39m\u001b[38;5;124m'\u001b[39m):\n\u001b[1;32m      2\u001b[0m     address \u001b[38;5;241m=\u001b[39m \u001b[38;5;124mf\u001b[39m\u001b[38;5;124m\"\u001b[39m\u001b[38;5;132;01m{\u001b[39;00mcity\u001b[38;5;132;01m}\u001b[39;00m\u001b[38;5;124m, \u001b[39m\u001b[38;5;132;01m{\u001b[39;00mcountry\u001b[38;5;132;01m}\u001b[39;00m\u001b[38;5;124m\"\u001b[39m  \n\u001b[0;32m----> 3\u001b[0m     response \u001b[38;5;241m=\u001b[39m geocoder\u001b[38;5;241m.\u001b[39mgeocode(address)\n\u001b[1;32m      4\u001b[0m     \u001b[38;5;28;01mif\u001b[39;00m response \u001b[38;5;129;01mand\u001b[39;00m \u001b[38;5;124m'\u001b[39m\u001b[38;5;124mgeometry\u001b[39m\u001b[38;5;124m'\u001b[39m \u001b[38;5;129;01min\u001b[39;00m response[\u001b[38;5;241m0\u001b[39m]:\n\u001b[1;32m      5\u001b[0m         \u001b[38;5;28;01mreturn\u001b[39;00m response[\u001b[38;5;241m0\u001b[39m][\u001b[38;5;124m'\u001b[39m\u001b[38;5;124mgeometry\u001b[39m\u001b[38;5;124m'\u001b[39m]\u001b[38;5;241m.\u001b[39mget(method)  \n",
      "File \u001b[0;32m~/anaconda3/lib/python3.11/site-packages/opencage/geocoder.py:195\u001b[0m, in \u001b[0;36mOpenCageGeocode.geocode\u001b[0;34m(self, query, **kwargs)\u001b[0m\n\u001b[1;32m    192\u001b[0m     \u001b[38;5;28;01mraise\u001b[39;00m AioHttpError(\u001b[38;5;124m\"\u001b[39m\u001b[38;5;124mCannot use `geocode` in an async context, use `geocode_async`.\u001b[39m\u001b[38;5;124m\"\u001b[39m)\n\u001b[1;32m    194\u001b[0m request \u001b[38;5;241m=\u001b[39m \u001b[38;5;28mself\u001b[39m\u001b[38;5;241m.\u001b[39m_parse_request(query, kwargs)\n\u001b[0;32m--> 195\u001b[0m response \u001b[38;5;241m=\u001b[39m \u001b[38;5;28mself\u001b[39m\u001b[38;5;241m.\u001b[39m_opencage_request(request)\n\u001b[1;32m    197\u001b[0m \u001b[38;5;28;01mreturn\u001b[39;00m floatify_latlng(response[\u001b[38;5;124m'\u001b[39m\u001b[38;5;124mresults\u001b[39m\u001b[38;5;124m'\u001b[39m])\n",
      "File \u001b[0;32m~/anaconda3/lib/python3.11/site-packages/backoff/_sync.py:105\u001b[0m, in \u001b[0;36mretry_exception.<locals>.retry\u001b[0;34m(*args, **kwargs)\u001b[0m\n\u001b[1;32m     96\u001b[0m details \u001b[38;5;241m=\u001b[39m {\n\u001b[1;32m     97\u001b[0m     \u001b[38;5;124m\"\u001b[39m\u001b[38;5;124mtarget\u001b[39m\u001b[38;5;124m\"\u001b[39m: target,\n\u001b[1;32m     98\u001b[0m     \u001b[38;5;124m\"\u001b[39m\u001b[38;5;124margs\u001b[39m\u001b[38;5;124m\"\u001b[39m: args,\n\u001b[0;32m   (...)\u001b[0m\n\u001b[1;32m    101\u001b[0m     \u001b[38;5;124m\"\u001b[39m\u001b[38;5;124melapsed\u001b[39m\u001b[38;5;124m\"\u001b[39m: elapsed,\n\u001b[1;32m    102\u001b[0m }\n\u001b[1;32m    104\u001b[0m \u001b[38;5;28;01mtry\u001b[39;00m:\n\u001b[0;32m--> 105\u001b[0m     ret \u001b[38;5;241m=\u001b[39m target(\u001b[38;5;241m*\u001b[39margs, \u001b[38;5;241m*\u001b[39m\u001b[38;5;241m*\u001b[39mkwargs)\n\u001b[1;32m    106\u001b[0m \u001b[38;5;28;01mexcept\u001b[39;00m exception \u001b[38;5;28;01mas\u001b[39;00m e:\n\u001b[1;32m    107\u001b[0m     max_tries_exceeded \u001b[38;5;241m=\u001b[39m (tries \u001b[38;5;241m==\u001b[39m max_tries_value)\n",
      "File \u001b[0;32m~/anaconda3/lib/python3.11/site-packages/opencage/geocoder.py:274\u001b[0m, in \u001b[0;36mOpenCageGeocode._opencage_request\u001b[0;34m(self, params)\u001b[0m\n\u001b[1;32m    271\u001b[0m     \u001b[38;5;28;01mraise\u001b[39;00m UnknownError(\u001b[38;5;124m\"\u001b[39m\u001b[38;5;124mNon-JSON result from server\u001b[39m\u001b[38;5;124m\"\u001b[39m) \u001b[38;5;28;01mfrom\u001b[39;00m \u001b[38;5;21;01mexcinfo\u001b[39;00m\n\u001b[1;32m    273\u001b[0m \u001b[38;5;28;01mif\u001b[39;00m response\u001b[38;5;241m.\u001b[39mstatus_code \u001b[38;5;241m==\u001b[39m \u001b[38;5;241m401\u001b[39m:\n\u001b[0;32m--> 274\u001b[0m     \u001b[38;5;28;01mraise\u001b[39;00m NotAuthorizedError()\n\u001b[1;32m    276\u001b[0m \u001b[38;5;28;01mif\u001b[39;00m response\u001b[38;5;241m.\u001b[39mstatus_code \u001b[38;5;241m==\u001b[39m \u001b[38;5;241m403\u001b[39m:\n\u001b[1;32m    277\u001b[0m     \u001b[38;5;28;01mraise\u001b[39;00m ForbiddenError()\n",
      "\u001b[0;31mNotAuthorizedError\u001b[0m: Your API key is not authorized. You may have entered it incorrectly."
     ]
    }
   ],
   "source": [
    "# unittesting for geocoding\n",
    "\n",
    "assert abs(fill_null_lat_lng('Kazakhstan', 'Pavlodar') - 52.287303) <= 1 # arbitrary known address\n",
    "assert abs(fill_null_lat_lng('Kazakhstan', 'Pavlodar', 'lng') - 76.967402) <= 1  # arbitrary known address\n",
    "assert abs(fill_null_lat_lng('Us', 'Rapid City', 'lat') - 44.080) <= 1  # address from dataset\n",
    "assert abs(fill_null_lat_lng('Us', 'Rapid City', 'lng') - -103.250) <= 1  # address from dataset\n"
   ]
  },
  {
   "cell_type": "code",
   "execution_count": 29,
   "id": "99ebfa30-8276-4b25-9bdf-07873437302e",
   "metadata": {},
   "outputs": [],
   "source": [
    "fill_null_lat_lng_udf = udf(fill_null_lat_lng, DoubleType())"
   ]
  },
  {
   "cell_type": "code",
   "execution_count": 30,
   "id": "e653acaf-3603-4624-82c1-8afe97a2a7be",
   "metadata": {},
   "outputs": [
    {
     "name": "stdout",
     "output_type": "stream",
     "text": [
      "+-----------+------------+--------------+-----------------------+-------+------+----+----+\n",
      "|         id|franchise_id|franchise_name|restaurant_franchise_id|country|  city| lat| lng|\n",
      "+-----------+------------+--------------+-----------------------+-------+------+----+----+\n",
      "|85899345920|           1|       Savoria|                  18952|     US|Dillon|NULL|NULL|\n",
      "+-----------+------------+--------------+-----------------------+-------+------+----+----+\n",
      "\n"
     ]
    }
   ],
   "source": [
    "data.filter(col('lat').isNull() | col('lng').isNull()).show()"
   ]
  },
  {
   "cell_type": "markdown",
   "id": "b9f43e13-73f6-44aa-8f6c-77a4c0a5cbcf",
   "metadata": {},
   "source": [
    "From the above it is seen that there is only one entity with Nulls"
   ]
  },
  {
   "cell_type": "code",
   "execution_count": 31,
   "id": "d121f2c2-e198-4001-b8ba-f06f72a73565",
   "metadata": {},
   "outputs": [],
   "source": [
    "data = data.withColumn('lat', \n",
    "                       when(col('lat').isNull(), fill_null_lat_lng_udf(col('country'), col('city'), 'lat'))\n",
    "                       .otherwise(col('lat')))\n",
    "\n",
    "data = data.withColumn('lng', \n",
    "                       when(col('lng').isNull(), fill_null_lat_lng_udf(col('country'), col('city'), 'lng'))\n",
    "                       .otherwise(col('lng')))"
   ]
  },
  {
   "cell_type": "code",
   "execution_count": 32,
   "id": "b7e2428b-2568-4b23-807b-2b7f35c911d1",
   "metadata": {},
   "outputs": [
    {
     "name": "stdout",
     "output_type": "stream",
     "text": [
      "+---+------------+--------------+-----------------------+-------+----+---+---+\n",
      "| id|franchise_id|franchise_name|restaurant_franchise_id|country|city|lat|lng|\n",
      "+---+------------+--------------+-----------------------+-------+----+---+---+\n",
      "+---+------------+--------------+-----------------------+-------+----+---+---+\n",
      "\n"
     ]
    }
   ],
   "source": [
    "data.filter(col('lat').isNull() | col('lng').isNull()).show()\n"
   ]
  },
  {
   "cell_type": "markdown",
   "id": "e957b8f8-b2d8-4ce8-b1a0-427af63c65c8",
   "metadata": {},
   "source": [
    "After mapping address to lat and lng, we have removed all Nulls"
   ]
  },
  {
   "cell_type": "code",
   "execution_count": 34,
   "id": "0eb83450-c831-4e59-a379-de82ade01859",
   "metadata": {},
   "outputs": [],
   "source": [
    "! pip install python-geohash  >> /dev/null"
   ]
  },
  {
   "cell_type": "code",
   "execution_count": 36,
   "id": "25d4526a-8a89-49af-aa4e-81603e7204c8",
   "metadata": {},
   "outputs": [],
   "source": [
    "import geohash\n",
    "\n",
    "def generate_geohash(lat, lon):\n",
    "    return geohash.encode(lat, lon, precision=4) \n",
    "generate_geohash_udf = udf(generate_geohash, StringType())"
   ]
  },
  {
   "cell_type": "code",
   "execution_count": 66,
   "id": "9664c4c2-35b9-4ad3-8635-856796b5c22f",
   "metadata": {},
   "outputs": [],
   "source": [
    "# Geohashing unit testing\n",
    "\n",
    "assert generate_geohash(52.287303, 76.967402) == 'v9q9' # an arbitrary example\n",
    "assert generate_geohash(0, 0) == 's000' # 0 case\n",
    "assert generate_geohash(-90, 90) == 'n000' # edge case\n",
    "assert generate_geohash(34.578, -87.021) == 'dn4h' # an arbitrary case from data, checked manually\n"
   ]
  },
  {
   "cell_type": "code",
   "execution_count": 39,
   "id": "4646e7a0-d82d-44c7-b453-86a303b59dbb",
   "metadata": {},
   "outputs": [],
   "source": [
    "data = data.withColumn('geohash', generate_geohash_udf(col('lat'), col('lng')))\n"
   ]
  },
  {
   "cell_type": "code",
   "execution_count": 40,
   "id": "512152a3-2964-4a45-bc68-2fd8ddc54eb9",
   "metadata": {},
   "outputs": [
    {
     "name": "stdout",
     "output_type": "stream",
     "text": [
      "+------------+------------+--------------------+-----------------------+-------+--------------+------+-------+-------+\n",
      "|          id|franchise_id|      franchise_name|restaurant_franchise_id|country|          city|   lat|    lng|geohash|\n",
      "+------------+------------+--------------------+-----------------------+-------+--------------+------+-------+-------+\n",
      "|197568495625|          10|    The Golden Spoon|                  24784|     US|       Decatur|34.578|-87.021|   dn4h|\n",
      "| 17179869242|          59|         Azalea Cafe|                  10902|     FR|         Paris|48.861|  2.368|   u09t|\n",
      "|214748364826|          27|     The Corner Cafe|                  92040|     US|    Rapid City| 44.08|-103.25|   9xyd|\n",
      "|154618822706|          51|        The Pizzeria|                  41484|     AT|        Vienna|48.213| 16.413|   u2ed|\n",
      "|163208757312|          65|       Chef's Corner|                  96638|     GB|        London|51.495| -0.191|   gcpu|\n",
      "| 68719476763|          28|    The Spicy Pickle|                  77517|     US|      Grayling|44.657|-84.744|   dpgw|\n",
      "|223338299419|          28|    The Spicy Pickle|                  36937|     US|        Oswego|43.452|-76.532|   dr9x|\n",
      "|240518168650|          75|     Greenhouse Cafe|                  93164|     NL|     Amsterdam| 52.37|  4.897|   u173|\n",
      "|128849018936|          57|The Yellow Submarine|                   5679|     FR|         Paris|48.872|  2.335|   u09w|\n",
      "|197568495635|          20|       The Brasserie|                  24784|     US|Jeffersonville|39.616|-83.612|   dph9|\n",
      "| 68719476768|          33|   The Blue Elephant|                  77517|     IT|         Milan|45.479|  9.146|   u0nd|\n",
      "| 51539607582|          31|           Bistro 42|                   6934|     IT|         Milan|45.444|  9.153|   u0nd|\n",
      "| 94489280554|          43|      The Food House|                  95399|     FR|         Paris|48.867|  2.329|   u09t|\n",
      "|206158430215|           8|     The Green Olive|                  53370|     US|   Haltom City|32.789| -97.28|   9vff|\n",
      "|154618822657|           2|        Bella Cucina|                  41484|     US|   Fort Pierce|27.412|-80.391|   dhyg|\n",
      "| 17179869217|          34|     The Tasty Treat|                  10902|     US|     Green Bay|44.476|-88.077|   dpcm|\n",
      "|  8589934633|          42|     The Daily Scoop|                  12630|     FR|         Paris|48.854|  2.343|   u09t|\n",
      "|240518168596|          21|      The Lazy Daisy|                  93164|     US|    Mendenhall| 39.86|-75.646|   dr44|\n",
      "|171798691906|          67|  Crimson and Clover|                  65939|     NL|     Amsterdam|52.361|  4.894|   u173|\n",
      "| 42949673022|          63|          Cafe Paris|                  89646|     GB|        London|51.508| -0.107|   gcpv|\n",
      "+------------+------------+--------------------+-----------------------+-------+--------------+------+-------+-------+\n",
      "only showing top 20 rows\n",
      "\n"
     ]
    }
   ],
   "source": [
    "data.show()"
   ]
  },
  {
   "cell_type": "code",
   "execution_count": 44,
   "id": "a2d6f445-b872-4f86-a341-51c06c0522b8",
   "metadata": {},
   "outputs": [],
   "source": [
    "weather = spark.read.format('parquet').option(\"header\",\"true\").option(\"inferSchema\",\"true\") \\\n",
    "  .load(\"./volume/weather/*\")"
   ]
  },
  {
   "cell_type": "code",
   "execution_count": 45,
   "id": "0382d969-5b75-4b45-a35e-c29aee193abd",
   "metadata": {},
   "outputs": [
    {
     "name": "stdout",
     "output_type": "stream",
     "text": [
      "+--------+-------+----------+----------+----------+-----+---+\n",
      "|     lng|    lat|avg_tmpr_f|avg_tmpr_c| wthr_date|month|day|\n",
      "+--------+-------+----------+----------+----------+-----+---+\n",
      "|-111.202|18.7496|      81.1|      27.3|2016-10-05|   10|  5|\n",
      "|-111.155| 18.755|      81.2|      27.3|2016-10-05|   10|  5|\n",
      "|-111.107|18.7604|      81.1|      27.3|2016-10-05|   10|  5|\n",
      "|-111.059|18.7657|      81.0|      27.2|2016-10-05|   10|  5|\n",
      "|-111.012|18.7711|      80.9|      27.2|2016-10-05|   10|  5|\n",
      "|-110.964|18.7764|      80.9|      27.2|2016-10-05|   10|  5|\n",
      "|-110.916|18.7818|      80.8|      27.1|2016-10-05|   10|  5|\n",
      "|-110.869|18.7871|      80.9|      27.2|2016-10-05|   10|  5|\n",
      "|-110.821|18.7924|      81.1|      27.3|2016-10-05|   10|  5|\n",
      "|-110.773|18.7977|      81.3|      27.4|2016-10-05|   10|  5|\n",
      "|-110.726|18.8029|      81.4|      27.4|2016-10-05|   10|  5|\n",
      "|-105.221|19.3026|      83.1|      28.4|2016-10-05|   10|  5|\n",
      "|-105.173| 19.306|      83.0|      28.3|2016-10-05|   10|  5|\n",
      "|-105.125|19.3094|      83.0|      28.3|2016-10-05|   10|  5|\n",
      "|-105.077|19.3128|      83.0|      28.3|2016-10-05|   10|  5|\n",
      "|-105.029|19.3162|      83.0|      28.3|2016-10-05|   10|  5|\n",
      "| -104.98|19.3196|      82.9|      28.3|2016-10-05|   10|  5|\n",
      "|-104.932|19.3229|      82.8|      28.2|2016-10-05|   10|  5|\n",
      "|-104.884|19.3262|      82.6|      28.1|2016-10-05|   10|  5|\n",
      "|-104.836|19.3295|      82.3|      27.9|2016-10-05|   10|  5|\n",
      "+--------+-------+----------+----------+----------+-----+---+\n",
      "only showing top 20 rows\n",
      "\n"
     ]
    }
   ],
   "source": [
    "weather.show()"
   ]
  },
  {
   "cell_type": "code",
   "execution_count": 46,
   "id": "bc8d34ec-391c-46bf-9672-05eea3e862f5",
   "metadata": {},
   "outputs": [
    {
     "name": "stdout",
     "output_type": "stream",
     "text": [
      "+--------+-------+----------+----------+----------+-----+---+-------+\n",
      "|     lng|    lat|avg_tmpr_f|avg_tmpr_c| wthr_date|month|day|geohash|\n",
      "+--------+-------+----------+----------+----------+-----+---+-------+\n",
      "|-111.202|18.7496|      81.1|      27.3|2016-10-05|   10|  5|   9e2f|\n",
      "|-111.155| 18.755|      81.2|      27.3|2016-10-05|   10|  5|   9e2f|\n",
      "|-111.107|18.7604|      81.1|      27.3|2016-10-05|   10|  5|   9e2f|\n",
      "|-111.059|18.7657|      81.0|      27.2|2016-10-05|   10|  5|   9e34|\n",
      "|-111.012|18.7711|      80.9|      27.2|2016-10-05|   10|  5|   9e34|\n",
      "|-110.964|18.7764|      80.9|      27.2|2016-10-05|   10|  5|   9e34|\n",
      "|-110.916|18.7818|      80.8|      27.1|2016-10-05|   10|  5|   9e34|\n",
      "|-110.869|18.7871|      80.9|      27.2|2016-10-05|   10|  5|   9e34|\n",
      "|-110.821|18.7924|      81.1|      27.3|2016-10-05|   10|  5|   9e34|\n",
      "|-110.773|18.7977|      81.3|      27.4|2016-10-05|   10|  5|   9e34|\n",
      "|-110.726|18.8029|      81.4|      27.4|2016-10-05|   10|  5|   9e36|\n",
      "|-105.221|19.3026|      83.1|      28.4|2016-10-05|   10|  5|   9emj|\n",
      "|-105.173| 19.306|      83.0|      28.3|2016-10-05|   10|  5|   9emj|\n",
      "|-105.125|19.3094|      83.0|      28.3|2016-10-05|   10|  5|   9emj|\n",
      "|-105.077|19.3128|      83.0|      28.3|2016-10-05|   10|  5|   9emm|\n",
      "|-105.029|19.3162|      83.0|      28.3|2016-10-05|   10|  5|   9emm|\n",
      "| -104.98|19.3196|      82.9|      28.3|2016-10-05|   10|  5|   9emm|\n",
      "|-104.932|19.3229|      82.8|      28.2|2016-10-05|   10|  5|   9emm|\n",
      "|-104.884|19.3262|      82.6|      28.1|2016-10-05|   10|  5|   9emm|\n",
      "|-104.836|19.3295|      82.3|      27.9|2016-10-05|   10|  5|   9emm|\n",
      "+--------+-------+----------+----------+----------+-----+---+-------+\n",
      "only showing top 20 rows\n",
      "\n"
     ]
    }
   ],
   "source": [
    "weather = weather.withColumn('geohash', generate_geohash_udf(col('lat'), col('lng')))\n",
    "weather.show()"
   ]
  },
  {
   "cell_type": "code",
   "execution_count": 83,
   "id": "a60aef1e-6671-449e-8fd2-f730f14de09d",
   "metadata": {},
   "outputs": [
    {
     "name": "stdout",
     "output_type": "stream",
     "text": [
      "+-------+------------+------------+---------------+-----------------------+-------+-----------+------+-------+----------+------------------+------------------+\n",
      "|geohash|          id|franchise_id| franchise_name|restaurant_franchise_id|country|       city|   lat|    lng| wthr_date|        avg_tmpr_f|        avg_tmpr_c|\n",
      "+-------+------------+------------+---------------+-----------------------+-------+-----------+------+-------+----------+------------------+------------------+\n",
      "|   9vff|206158430215|           8|The Green Olive|                  53370|     US|Haltom City|32.789| -97.28|2016-10-01| 71.31071428571428|21.828571428571426|\n",
      "|   9vff|206158430215|           8|The Green Olive|                  53370|     US|Haltom City|32.789| -97.28|2016-10-02| 72.00000000000001|            22.225|\n",
      "|   9vff|206158430215|           8|The Green Olive|                  53370|     US|Haltom City|32.789| -97.28|2016-10-05| 82.01071428571429|27.789285714285718|\n",
      "|   9vff|206158430215|           8|The Green Olive|                  53370|     US|Haltom City|32.789| -97.28|2016-10-04| 78.52857142857144|25.849999999999998|\n",
      "|   9vff|206158430215|           8|The Green Olive|                  53370|     US|Haltom City|32.789| -97.28|2016-10-07| 64.92142857142858|18.292857142857148|\n",
      "|   9vff|206158430215|           8|The Green Olive|                  53370|     US|Haltom City|32.789| -97.28|2016-10-03| 74.34642857142856|23.532142857142855|\n",
      "|   9vff|206158430215|           8|The Green Olive|                  53370|     US|Haltom City|32.789| -97.28|2016-10-08| 63.57142857142856| 17.54285714285714|\n",
      "|   9vff|206158430215|           8|The Green Olive|                  53370|     US|Haltom City|32.789| -97.28|2016-10-06| 81.45357142857142|27.467857142857135|\n",
      "|   9xyd|214748364826|          27|The Corner Cafe|                  92040|     US| Rapid City| 44.08|-103.25|2016-10-02|             64.74|18.191999999999997|\n",
      "|   9xyd|214748364826|          27|The Corner Cafe|                  92040|     US| Rapid City| 44.08|-103.25|2016-10-07|42.571999999999996| 5.888000000000002|\n",
      "|   9xyd|214748364826|          27|The Corner Cafe|                  92040|     US| Rapid City| 44.08|-103.25|2016-10-08|             50.22|10.131999999999998|\n",
      "|   9xyd|214748364826|          27|The Corner Cafe|                  92040|     US| Rapid City| 44.08|-103.25|2016-10-05|            46.824|             8.248|\n",
      "|   9xyd|214748364826|          27|The Corner Cafe|                  92040|     US| Rapid City| 44.08|-103.25|2016-10-04| 49.51599999999999| 9.731999999999998|\n",
      "|   9xyd|214748364826|          27|The Corner Cafe|                  92040|     US| Rapid City| 44.08|-103.25|2016-10-03|58.711999999999996|14.836000000000002|\n",
      "|   9xyd|214748364826|          27|The Corner Cafe|                  92040|     US| Rapid City| 44.08|-103.25|2016-10-06|            40.208|             4.552|\n",
      "|   9xyd|214748364826|          27|The Corner Cafe|                  92040|     US| Rapid City| 44.08|-103.25|2016-10-01|             66.78|19.323999999999998|\n",
      "|   dhyg|154618822657|           2|   Bella Cucina|                  41484|     US|Fort Pierce|27.412|-80.391|2016-10-02| 78.97391304347825|              26.1|\n",
      "|   dhyg|154618822657|           2|   Bella Cucina|                  41484|     US|Fort Pierce|27.412|-80.391|2016-10-01| 78.33913043478263|25.747826086956525|\n",
      "|   dhyg|154618822657|           2|   Bella Cucina|                  41484|     US|Fort Pierce|27.412|-80.391|2016-10-08| 81.99999999999999| 27.78260869565217|\n",
      "|   dhyg|154618822657|           2|   Bella Cucina|                  41484|     US|Fort Pierce|27.412|-80.391|2016-10-04| 80.38695652173915|26.878260869565214|\n",
      "+-------+------------+------------+---------------+-----------------------+-------+-----------+------+-------+----------+------------------+------------------+\n",
      "only showing top 20 rows\n",
      "\n"
     ]
    }
   ],
   "source": [
    "from pyspark.sql import functions as F\n",
    "# to avoid multiplication, I simply average temperature in every geohash at the given date\n",
    "weather_aggregated = weather.groupBy('geohash', 'wthr_date').agg(\n",
    "   F.mean('avg_tmpr_f').alias('avg_tmpr_f'),\n",
    "   F.mean('avg_tmpr_c').alias('avg_tmpr_c')\n",
    ")\n",
    "enriched_data = data.join(weather_aggregated, ['geohash'], 'left')\n",
    "enriched_data.show()"
   ]
  },
  {
   "cell_type": "code",
   "execution_count": 55,
   "id": "64541ad9-7b44-4e21-9612-aeae769853ec",
   "metadata": {},
   "outputs": [],
   "source": [
    "enriched_data.write.mode('overwrite').partitionBy('wthr_date').parquet(\"./volume/data_enriched\")"
   ]
  },
  {
   "cell_type": "code",
   "execution_count": 75,
   "id": "917db45f-fd78-4816-b70e-3f2a251bf675",
   "metadata": {},
   "outputs": [
    {
     "name": "stdout",
     "output_type": "stream",
     "text": [
      "+------------+------------+--------------------+-----------------------+-------+--------------+------+-------+-------+\n",
      "|          id|franchise_id|      franchise_name|restaurant_franchise_id|country|          city|   lat|    lng|geohash|\n",
      "+------------+------------+--------------------+-----------------------+-------+--------------+------+-------+-------+\n",
      "|197568495625|          10|    The Golden Spoon|                  24784|     US|       Decatur|34.578|-87.021|   dn4h|\n",
      "| 17179869242|          59|         Azalea Cafe|                  10902|     FR|         Paris|48.861|  2.368|   u09t|\n",
      "|214748364826|          27|     The Corner Cafe|                  92040|     US|    Rapid City| 44.08|-103.25|   9xyd|\n",
      "|154618822706|          51|        The Pizzeria|                  41484|     AT|        Vienna|48.213| 16.413|   u2ed|\n",
      "|163208757312|          65|       Chef's Corner|                  96638|     GB|        London|51.495| -0.191|   gcpu|\n",
      "| 68719476763|          28|    The Spicy Pickle|                  77517|     US|      Grayling|44.657|-84.744|   dpgw|\n",
      "|223338299419|          28|    The Spicy Pickle|                  36937|     US|        Oswego|43.452|-76.532|   dr9x|\n",
      "|240518168650|          75|     Greenhouse Cafe|                  93164|     NL|     Amsterdam| 52.37|  4.897|   u173|\n",
      "|128849018936|          57|The Yellow Submarine|                   5679|     FR|         Paris|48.872|  2.335|   u09w|\n",
      "|197568495635|          20|       The Brasserie|                  24784|     US|Jeffersonville|39.616|-83.612|   dph9|\n",
      "| 68719476768|          33|   The Blue Elephant|                  77517|     IT|         Milan|45.479|  9.146|   u0nd|\n",
      "| 51539607582|          31|           Bistro 42|                   6934|     IT|         Milan|45.444|  9.153|   u0nd|\n",
      "| 94489280554|          43|      The Food House|                  95399|     FR|         Paris|48.867|  2.329|   u09t|\n",
      "|206158430215|           8|     The Green Olive|                  53370|     US|   Haltom City|32.789| -97.28|   9vff|\n",
      "|154618822657|           2|        Bella Cucina|                  41484|     US|   Fort Pierce|27.412|-80.391|   dhyg|\n",
      "| 17179869217|          34|     The Tasty Treat|                  10902|     US|     Green Bay|44.476|-88.077|   dpcm|\n",
      "|  8589934633|          42|     The Daily Scoop|                  12630|     FR|         Paris|48.854|  2.343|   u09t|\n",
      "|240518168596|          21|      The Lazy Daisy|                  93164|     US|    Mendenhall| 39.86|-75.646|   dr44|\n",
      "|171798691906|          67|  Crimson and Clover|                  65939|     NL|     Amsterdam|52.361|  4.894|   u173|\n",
      "| 42949673022|          63|          Cafe Paris|                  89646|     GB|        London|51.508| -0.107|   gcpv|\n",
      "+------------+------------+--------------------+-----------------------+-------+--------------+------+-------+-------+\n",
      "only showing top 20 rows\n",
      "\n"
     ]
    }
   ],
   "source": [
    "data.show()"
   ]
  },
  {
   "cell_type": "code",
   "execution_count": null,
   "id": "4bffdad2-1d15-4f55-8615-befccff47c72",
   "metadata": {},
   "outputs": [],
   "source": []
  }
 ],
 "metadata": {
  "kernelspec": {
   "display_name": "Python 3 (ipykernel)",
   "language": "python",
   "name": "python3"
  },
  "language_info": {
   "codemirror_mode": {
    "name": "ipython",
    "version": 3
   },
   "file_extension": ".py",
   "mimetype": "text/x-python",
   "name": "python",
   "nbconvert_exporter": "python",
   "pygments_lexer": "ipython3",
   "version": "3.11.5"
  }
 },
 "nbformat": 4,
 "nbformat_minor": 5
}
